{
 "cells": [
  {
   "cell_type": "markdown",
   "metadata": {},
   "source": [
    "# Data Exploration\n",
    "\n",
    "We will now explore the data and try to gain some biological insight from it. "
   ]
  },
  {
   "cell_type": "code",
   "execution_count": null,
   "metadata": {},
   "outputs": [],
   "source": [
    "%matplotlib inline\n",
    "%config InlineBackend.figure_format = 'retina'\n",
    "%gui qt\n",
    "\n",
    "import numpy as np\n",
    "import pandas as pd\n",
    "\n",
    "import matplotlib\n",
    "import matplotlib.pyplot as plt\n",
    "import matplotlib.cm as cm\n",
    "matplotlib.rc(\"figure\", figsize=(10,5))\n",
    "\n",
    "import seaborn as sns\n",
    "\n",
    "import pathlib\n",
    "import tifffile\n",
    "import pickle\n",
    "\n",
    "from skimage.measure import regionprops\n",
    "\n",
    "import delta"
   ]
  },
  {
   "cell_type": "markdown",
   "metadata": {},
   "source": [
    "## Setup Folders\n",
    "As always we start with specifying the data paths:"
   ]
  },
  {
   "cell_type": "code",
   "execution_count": null,
   "metadata": {},
   "outputs": [],
   "source": [
    "proj_dir = pathlib.Path(pathlib.Path.home(), 'I2ICourse', 'Project2B')\n",
    "processed_dir = proj_dir / 'ProcessedData'\n",
    "image_dir = proj_dir / 'RawData'"
   ]
  },
  {
   "cell_type": "markdown",
   "metadata": {},
   "source": [
    "## Some Useful functions\n",
    "\n",
    "Here are some of the function from the previous notebook we might still like to use."
   ]
  },
  {
   "cell_type": "code",
   "execution_count": null,
   "metadata": {},
   "outputs": [],
   "source": [
    "def to_str(posixpath):\n",
    "    return str(posixpath.resolve())    "
   ]
  },
  {
   "cell_type": "code",
   "execution_count": null,
   "metadata": {},
   "outputs": [],
   "source": [
    "def plot_spatial_map(pos, lin, property, frame=-1, axis=None):\n",
    "   #pos: delta position object\n",
    "   #lin: delta linage object\n",
    "   #property: key of cell property contained in lineage object\n",
    "   #frame: frame to show, if not specified last one is chosen\n",
    "   #axis: axis to add plot to, if not specified new one is made\n",
    "   \n",
    "   #create color map where Nan is shown as black  \n",
    "   colMap = cm.get_cmap(\"viridis\").copy()\n",
    "   colMap.set_bad(color='black')\n",
    "   \n",
    "   #get frame\n",
    "   frame = len(pos.rois[0].label_stack)-1 if frame==-1 else frame\n",
    "\n",
    "   # get label image:\n",
    "   labels = pos.rois[0].label_stack[frame]\n",
    "\n",
    "   spatial_map = np.full(labels.shape, np.nan)\n",
    "\n",
    "   # Go over cells in selected frame:\n",
    "   for cnb in lin.cellnumbers[frame]:\n",
    "   \n",
    "      #convert to numpy to allow for advanced indexing\n",
    "      cell_frames = np.array(lin.cells[cnb]['frames'])\n",
    "      cell_prop = np.array(lin.cells[cnb][property])\n",
    "   \n",
    "      #frame index      \n",
    "      fr_idx = cell_frames==frame\n",
    "      cell_prop = cell_prop[fr_idx]\n",
    "      \n",
    "      #assign cells mask area the phenotype of choice\n",
    "      spatial_map[labels==cnb+1] = cell_prop\n",
    "\n",
    "   #create new axis if needed\n",
    "   if axis is None:\n",
    "      fig, axis = plt.subplots()\n",
    "   \n",
    "   #make plot\n",
    "   axis.imshow(spatial_map, cmap=colMap)\n",
    "   axis.set_xlabel('x-pos') \n",
    "   axis.set_ylabel('y-pos') \n",
    "   axis.set_title(property)\n",
    "   \n",
    "   return None"
   ]
  },
  {
   "cell_type": "markdown",
   "metadata": {},
   "source": [
    "## Load Data\n",
    "We load the data from the last notebook;"
   ]
  },
  {
   "cell_type": "code",
   "execution_count": null,
   "metadata": {},
   "outputs": [],
   "source": [
    "#postion object\n",
    "pos_name = to_str(processed_dir / 'Position000000.pkl')\n",
    "pos = delta.pipeline.Position(None,None,None)\n",
    "pos.load(pos_name)"
   ]
  },
  {
   "cell_type": "code",
   "execution_count": null,
   "metadata": {},
   "outputs": [],
   "source": [
    "# load the linage objetc:\n",
    "lin_name = processed_dir / pos_name.replace('.pkl','_updated_lin.pkl')\n",
    "filehandler = open(lin_name, 'rb') \n",
    "lin_obj = pickle.load(filehandler)"
   ]
  },
  {
   "cell_type": "code",
   "execution_count": null,
   "metadata": {},
   "outputs": [],
   "source": [
    "#load data frame\n",
    "df_name = processed_dir / pos_name.replace('.pkl','_df.pkl')\n",
    "df = pd.read_pickle(df_name)"
   ]
  },
  {
   "cell_type": "markdown",
   "metadata": {},
   "source": [
    "## A bit more Pandas\n",
    "\n",
    "For how to use Pandas, please refer to the Project 2A notebook.\n",
    "\n",
    "Here we just give one last example. Sometime you might be interested in the property of a cell at birth or division. For that Pandas has a very neat function: just combine `groupby` to group cells based on their unique `lin_id` with `first` or `last` to extract the first or last entry of each cell."
   ]
  },
  {
   "cell_type": "code",
   "execution_count": null,
   "metadata": {},
   "outputs": [],
   "source": [
    "import seaborn as sns\n",
    "\n",
    "#get first and last frame of all cells\n",
    "df_first_frame = df.groupby('lin_id').first()\n",
    "df_last_frame = df.groupby('lin_id').last()\n",
    "\n",
    "#we only want cells of which we have observed the full lineage\n",
    "#and exclude the ones that have no offspring (d1_lin_id=-1)\n",
    "#we can filter these out with:\n",
    "df_first_frame = df_first_frame.loc[df_first_frame['d1_lin_id']>0]\n",
    "df_last_frame = df_last_frame.loc[df_last_frame['d1_lin_id']>0]\n",
    "\n",
    "fig, axs = plt.subplots(1,3, figsize=(12,4))\n",
    "sns.histplot(ax=axs[0], data=df_first_frame, x='length', )\n",
    "sns.histplot(ax=axs[1], data=df_last_frame, x='length')\n",
    "sns.scatterplot(ax=axs[2], x=df_first_frame['length'], y=df_last_frame['length'])\n",
    "\n",
    "for ax in axs: ax.set(xlim=(0,180)) \n",
    "axs[2].set(ylim=(0,180))\n",
    "\n",
    "titles = ['length at birth', 'length at division', 'length at division vs length at birth'] \n",
    "for idx, title in enumerate(titles): axs[idx].set_title(title)"
   ]
  },
  {
   "cell_type": "markdown",
   "metadata": {},
   "source": [
    "## Exercise\n",
    "\n",
    "Now it is time for some biology. Discuss with your tutor want kind of biological questions you could address with this data.  \n",
    "Some ideas:\n",
    "- Does the phenotype of cells depend on the position in the colony? or on time?\n",
    "- Are there any correlations between the phenotypes of nearby cells?\n",
    "- Are there any correlations between the phenotypes of closely related cells?\n",
    "- Are there correlations between different cell properties (growth rate, fluorescence, size, etc)?\n",
    "- etc\n",
    "\n",
    "Above we referred to cell phenotypes. This is any property of interest of the cell. Obvious choices are fluorescent intensity and cell size, for example. But also growth rate is very important, however Delta does not calculate this by default.  \n",
    "There might also be other interesting phenotypes that Delta does not calculate by default, for example:\n",
    "- Cell division interval \n",
    "- Cell elongation rate (rate at which cell length increases)\n",
    "  - Hint: cell length is described by $l(t) = l(0) \\cdot e^{r\\cdot t}$ where $r$ is the elongation/growth rate\n",
    "  - Hint: elongation rates can change during the life of a cell, how could you quantify this?\n",
    "- Promoter activity (rate at which fluorescence increases):\n",
    "  - Hint the promoter activity can be estimated as: $(r + \\gamma) \\cdot M + \\frac{dM}{dt}$, where $r$ is the elongation rate, M the fluorescent intensity of a cell, $\\gamma\\approx 0.0015$ 1/min the degradation rate of the GFP, and $\\frac{dM}{dt}$ is the rate at which the fluorescent intensity of a cell changes in time (for derivation see [here](https://doi.org/10.1126/science.1208144)) \n",
    "- etc.\n",
    "\n",
    "Think about how you could estimate these quantities from the data you do have. "
   ]
  },
  {
   "cell_type": "code",
   "execution_count": null,
   "metadata": {},
   "outputs": [],
   "source": [
    "#Add your code here"
   ]
  }
 ],
 "metadata": {
  "interpreter": {
   "hash": "6cb765ee22dcc904efaf1351ec4408646fdaf0eb2968a618fbd04b98f5406910"
  },
  "kernelspec": {
   "display_name": "Python [conda env:i2i_p1_env]",
   "language": "python",
   "name": "python3"
  },
  "language_info": {
   "codemirror_mode": {
    "name": "ipython",
    "version": 3
   },
   "file_extension": ".py",
   "mimetype": "text/x-python",
   "name": "python",
   "nbconvert_exporter": "python",
   "pygments_lexer": "ipython3",
   "version": "3.9.12"
  }
 },
 "nbformat": 4,
 "nbformat_minor": 4
}
