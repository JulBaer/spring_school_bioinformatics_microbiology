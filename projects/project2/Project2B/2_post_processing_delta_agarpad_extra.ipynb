{
 "cells": [
  {
   "cell_type": "code",
   "execution_count": 1,
   "metadata": {},
   "outputs": [],
   "source": [
    "%matplotlib inline\n",
    "%config InlineBackend.figure_format = 'retina'\n",
    "%gui qt\n",
    "\n",
    "import napari\n",
    "\n",
    "\n",
    "import numpy as np\n",
    "import pandas as pd\n",
    "import matplotlib\n",
    "import matplotlib.pyplot as plt\n",
    "matplotlib.rc(\"figure\", figsize=(10,5))\n",
    "\n",
    "from skimage.measure import regionprops\n",
    "\n",
    "import pathlib\n",
    "\n",
    "\n",
    "import delta"
   ]
  },
  {
   "cell_type": "markdown",
   "metadata": {},
   "source": [
    "We first find all data:"
   ]
  },
  {
   "cell_type": "code",
   "execution_count": 2,
   "metadata": {},
   "outputs": [
    {
     "name": "stdout",
     "output_type": "stream",
     "text": [
      "[PosixPath('/Users/simonvanvliet/switchdrive/Biozentrum/AgarPad/processed_data/Pos01'), PosixPath('/Users/simonvanvliet/switchdrive/Biozentrum/AgarPad/processed_data/Pos01.pkl'), PosixPath('/Users/simonvanvliet/switchdrive/Biozentrum/AgarPad/processed_data/Pos02'), PosixPath('/Users/simonvanvliet/switchdrive/Biozentrum/AgarPad/processed_data/Pos03'), PosixPath('/Users/simonvanvliet/switchdrive/Biozentrum/AgarPad/processed_data/Pos04'), PosixPath('/Users/simonvanvliet/switchdrive/Biozentrum/AgarPad/processed_data/Pos05'), PosixPath('/Users/simonvanvliet/switchdrive/Biozentrum/AgarPad/processed_data/Pos06'), PosixPath('/Users/simonvanvliet/switchdrive/Biozentrum/AgarPad/processed_data/Pos07'), PosixPath('/Users/simonvanvliet/switchdrive/Biozentrum/AgarPad/processed_data/Pos08'), PosixPath('/Users/simonvanvliet/switchdrive/Biozentrum/AgarPad/processed_data/Pos09')]\n"
     ]
    }
   ],
   "source": [
    "root = pathlib.Path(pathlib.Path.home(), 'switchdrive', 'Biozentrum', 'AgarPad')\n",
    "image_dir = root / 'raw_data'\n",
    "processed_dir = root / 'processed_data'\n",
    "file_dirs = sorted(processed_dir.glob('Pos*'))\n",
    "print(file_dirs)\n"
   ]
  },
  {
   "cell_type": "markdown",
   "metadata": {},
   "source": [
    "Select a position:"
   ]
  },
  {
   "cell_type": "code",
   "execution_count": 3,
   "metadata": {},
   "outputs": [],
   "source": [
    "pos_to_analyze = 0\n",
    "# this loads the processed data\n",
    "pos = delta.pipeline.Position(None,None,None)\n",
    "cur_dir = file_dirs[pos_to_analyze]\n",
    "file_path = sorted(cur_dir.glob('*.pkl'))[0]\n"
   ]
  },
  {
   "cell_type": "markdown",
   "metadata": {},
   "source": [
    "Every package has it's own data format which makes data analysis hard if you use multiple of them. Here we thus convert the data to a standard format. Long-format table are well supported in general and are preferred by R / Panda etc."
   ]
  },
  {
   "cell_type": "markdown",
   "metadata": {},
   "source": [
    "Before doing that we have to add some extra lineage info:"
   ]
  },
  {
   "cell_type": "code",
   "execution_count": 4,
   "metadata": {},
   "outputs": [],
   "source": [
    "def add_lineage_info(lin):\n",
    "#first we give each sublineage a unique id\n",
    "    unique_count = 0 \n",
    "    for idx, cell in enumerate(lin.cells):\n",
    "        \n",
    "        ## create sublineage ID\n",
    "        #keep track of division events\n",
    "        div_event = np.array([d is not None for d in cell['daughters']])\n",
    "        sublin_id = np.cumsum(div_event) \n",
    "        unique_id = sublin_id + unique_count\n",
    "        \n",
    "        \n",
    "        empty_list = np.full_like(sublin_id, -1).tolist()\n",
    "        ## find mother cell\n",
    "        cell['lin_id'] = empty_list\n",
    "        cell['sublin_idx'] = empty_list\n",
    "        cell['mother_lin_id'] = empty_list\n",
    "        cell['d1_lin_id'] = empty_list\n",
    "        cell['d2_lin_id'] = empty_list\n",
    "\n",
    "        mom_idx = cell['mother']\n",
    "        birth_frm = cell['frames'][0]        \n",
    "        if mom_idx is not None:\n",
    "            mom = lin.cells[mom_idx]\n",
    "            \n",
    "            try:\n",
    "                div_frm = mom['frames'].index(birth_frm-1)\n",
    "                mom_lin_id = mom['lin_id'][div_frm]\n",
    "                \n",
    "                #find prev division\n",
    "                div_events_mom = np.nonzero(np.array(mom['daughters'])[0:birth_frm])[0]\n",
    "                start_idx = div_events_mom[-1] if div_events_mom.size > 0 else 0\n",
    "                \n",
    "                d2_temp = np.array(mom['d2_lin_id'])\n",
    "                d2_temp[start_idx:birth_frm] = unique_count                \n",
    "                mom['d2_lin_id'] = d2_temp.tolist()\n",
    "                \n",
    "            except:\n",
    "                mom_lin_id = -1\n",
    "        else:\n",
    "             mom_lin_id = -1   \n",
    "                    \n",
    "        \n",
    "        ## add mother and daughter info\n",
    "        mother_sublin_id = unique_id.copy() - 1\n",
    "        mother_sublin_id[sublin_id==0] = -1\n",
    "        \n",
    "        mother_lin_id = unique_id.copy() - 1\n",
    "        mother_lin_id[sublin_id==0] = mom_lin_id\n",
    "\n",
    "        unique_count += (np.sum(div_event) + 1)\n",
    "        \n",
    "        d1_lin_id = unique_id.copy() + 1\n",
    "        d1_lin_id[d1_lin_id==d1_lin_id[-1]] = -1\n",
    "\n",
    "        cell['sublin_idx'] = sublin_id.tolist()\n",
    "        cell['lin_id'] = unique_id.tolist()\n",
    "        cell['mother_lin_id'] = mother_lin_id.tolist()\n",
    "        cell['d1_lin_id'] = d1_lin_id.tolist()\n",
    "        \n",
    "        \n",
    "    return None\n",
    "\n",
    "\n",
    "def add_segment_info(lin, label_stack):  \n",
    "    \n",
    "    rp = [regionprops(label_im) for label_im in label_stack]\n",
    "    \n",
    "    label_lut = []\n",
    "    for cell_nr in lin.cellnumbers:\n",
    "        cell_nr = cell_nr.copy()\n",
    "        cell_nr.sort()\n",
    "        label_lut.append(cell_nr)\n",
    "\n",
    "    for idx, cell in enumerate(lin.cells):        \n",
    "        cell_idx = cell['id'] #the number cell has in label image\n",
    "        cell_frames = cell['frames'] #the frame the cell exists\n",
    "                \n",
    "        x_pos = np.full(len(cell_frames), np.nan)\n",
    "        y_pos = np.full(len(cell_frames), np.nan)\n",
    "        \n",
    "        for f_idx, frame in enumerate(cell_frames):\n",
    "            rp_idx = label_lut[frame].index(cell_idx)\n",
    "            centroid = rp[frame][rp_idx].centroid\n",
    "            \n",
    "            if len(centroid) == 2:\n",
    "                x_pos[f_idx] = centroid[1]\n",
    "                y_pos[f_idx] = centroid[0]\n",
    "                \n",
    "        lin.cells[idx]['x_pos'] = x_pos.tolist()\n",
    "        lin.cells[idx]['y_pos'] = y_pos.tolist()\n",
    "        \n",
    "    return None\n",
    "\n",
    "def lin_to_df(roi):\n",
    "    label_stack = roi.label_stack\n",
    "    lin = roi.lineage\n",
    "\n",
    "    #find vector based data\n",
    "    add_lineage_info(lin)\n",
    "    add_segment_info(lin, label_stack)\n",
    "\n",
    "    vector_data = []\n",
    "    [vector_data.append(key) for key in lin.cells[0].keys() if isinstance(lin.cells[0][key], list)]\n",
    "    #create data frame\n",
    "    df = pd.DataFrame(lin.cells)\n",
    "    #explode time into separate rows\n",
    "    df = df.explode(vector_data)\n",
    "    df = df.reset_index(drop=True)\n",
    "    \n",
    "    return df\n",
    "\n"
   ]
  },
  {
   "cell_type": "code",
   "execution_count": 5,
   "metadata": {},
   "outputs": [
    {
     "data": {
      "text/html": [
       "<div>\n",
       "<style scoped>\n",
       "    .dataframe tbody tr th:only-of-type {\n",
       "        vertical-align: middle;\n",
       "    }\n",
       "\n",
       "    .dataframe tbody tr th {\n",
       "        vertical-align: top;\n",
       "    }\n",
       "\n",
       "    .dataframe thead th {\n",
       "        text-align: right;\n",
       "    }\n",
       "</style>\n",
       "<table border=\"1\" class=\"dataframe\">\n",
       "  <thead>\n",
       "    <tr style=\"text-align: right;\">\n",
       "      <th></th>\n",
       "      <th>id</th>\n",
       "      <th>mother</th>\n",
       "      <th>frames</th>\n",
       "      <th>daughters</th>\n",
       "      <th>new_pole</th>\n",
       "      <th>old_pole</th>\n",
       "      <th>edges</th>\n",
       "      <th>length</th>\n",
       "      <th>width</th>\n",
       "      <th>area</th>\n",
       "      <th>perimeter</th>\n",
       "      <th>fluo1</th>\n",
       "      <th>lin_id</th>\n",
       "      <th>sublin_idx</th>\n",
       "      <th>mother_lin_id</th>\n",
       "      <th>d1_lin_id</th>\n",
       "      <th>d2_lin_id</th>\n",
       "      <th>x_pos</th>\n",
       "      <th>y_pos</th>\n",
       "    </tr>\n",
       "  </thead>\n",
       "  <tbody>\n",
       "    <tr>\n",
       "      <th>0</th>\n",
       "      <td>0</td>\n",
       "      <td>NaN</td>\n",
       "      <td>0</td>\n",
       "      <td>None</td>\n",
       "      <td>[284, 365]</td>\n",
       "      <td>[255, 387]</td>\n",
       "      <td></td>\n",
       "      <td>46.611313</td>\n",
       "      <td>11.645064</td>\n",
       "      <td>414.5</td>\n",
       "      <td>46</td>\n",
       "      <td>238.792576</td>\n",
       "      <td>0</td>\n",
       "      <td>0</td>\n",
       "      <td>-1</td>\n",
       "      <td>1</td>\n",
       "      <td>11</td>\n",
       "      <td>376.5</td>\n",
       "      <td>269.565502</td>\n",
       "    </tr>\n",
       "    <tr>\n",
       "      <th>1</th>\n",
       "      <td>0</td>\n",
       "      <td>NaN</td>\n",
       "      <td>1</td>\n",
       "      <td>None</td>\n",
       "      <td>[286, 363]</td>\n",
       "      <td>[258, 383]</td>\n",
       "      <td></td>\n",
       "      <td>46.238667</td>\n",
       "      <td>11.800332</td>\n",
       "      <td>427.5</td>\n",
       "      <td>48</td>\n",
       "      <td>243.961783</td>\n",
       "      <td>0</td>\n",
       "      <td>0</td>\n",
       "      <td>-1</td>\n",
       "      <td>1</td>\n",
       "      <td>11</td>\n",
       "      <td>374.528662</td>\n",
       "      <td>271.129512</td>\n",
       "    </tr>\n",
       "    <tr>\n",
       "      <th>2</th>\n",
       "      <td>0</td>\n",
       "      <td>NaN</td>\n",
       "      <td>2</td>\n",
       "      <td>None</td>\n",
       "      <td>[291, 359]</td>\n",
       "      <td>[262, 381]</td>\n",
       "      <td></td>\n",
       "      <td>47.418701</td>\n",
       "      <td>11.645064</td>\n",
       "      <td>424.0</td>\n",
       "      <td>43</td>\n",
       "      <td>253.923077</td>\n",
       "      <td>0</td>\n",
       "      <td>0</td>\n",
       "      <td>-1</td>\n",
       "      <td>1</td>\n",
       "      <td>11</td>\n",
       "      <td>370.84188</td>\n",
       "      <td>276.106838</td>\n",
       "    </tr>\n",
       "    <tr>\n",
       "      <th>3</th>\n",
       "      <td>0</td>\n",
       "      <td>NaN</td>\n",
       "      <td>3</td>\n",
       "      <td>None</td>\n",
       "      <td>[297, 357]</td>\n",
       "      <td>[268, 378]</td>\n",
       "      <td></td>\n",
       "      <td>47.796772</td>\n",
       "      <td>11.904551</td>\n",
       "      <td>435.0</td>\n",
       "      <td>52</td>\n",
       "      <td>261.135417</td>\n",
       "      <td>0</td>\n",
       "      <td>0</td>\n",
       "      <td>-1</td>\n",
       "      <td>1</td>\n",
       "      <td>11</td>\n",
       "      <td>368.84375</td>\n",
       "      <td>281.85</td>\n",
       "    </tr>\n",
       "    <tr>\n",
       "      <th>4</th>\n",
       "      <td>0</td>\n",
       "      <td>NaN</td>\n",
       "      <td>4</td>\n",
       "      <td>None</td>\n",
       "      <td>[295, 356]</td>\n",
       "      <td>[265, 378]</td>\n",
       "      <td></td>\n",
       "      <td>48.004536</td>\n",
       "      <td>11.916937</td>\n",
       "      <td>440.5</td>\n",
       "      <td>44</td>\n",
       "      <td>259.417695</td>\n",
       "      <td>0</td>\n",
       "      <td>0</td>\n",
       "      <td>-1</td>\n",
       "      <td>1</td>\n",
       "      <td>11</td>\n",
       "      <td>368.602881</td>\n",
       "      <td>279.300412</td>\n",
       "    </tr>\n",
       "  </tbody>\n",
       "</table>\n",
       "</div>"
      ],
      "text/plain": [
       "   id  mother frames daughters    new_pole    old_pole edges     length  \\\n",
       "0   0     NaN      0      None  [284, 365]  [255, 387]        46.611313   \n",
       "1   0     NaN      1      None  [286, 363]  [258, 383]        46.238667   \n",
       "2   0     NaN      2      None  [291, 359]  [262, 381]        47.418701   \n",
       "3   0     NaN      3      None  [297, 357]  [268, 378]        47.796772   \n",
       "4   0     NaN      4      None  [295, 356]  [265, 378]        48.004536   \n",
       "\n",
       "       width   area perimeter       fluo1 lin_id sublin_idx mother_lin_id  \\\n",
       "0  11.645064  414.5        46  238.792576      0          0            -1   \n",
       "1  11.800332  427.5        48  243.961783      0          0            -1   \n",
       "2  11.645064  424.0        43  253.923077      0          0            -1   \n",
       "3  11.904551  435.0        52  261.135417      0          0            -1   \n",
       "4  11.916937  440.5        44  259.417695      0          0            -1   \n",
       "\n",
       "  d1_lin_id d2_lin_id       x_pos       y_pos  \n",
       "0         1        11       376.5  269.565502  \n",
       "1         1        11  374.528662  271.129512  \n",
       "2         1        11   370.84188  276.106838  \n",
       "3         1        11   368.84375      281.85  \n",
       "4         1        11  368.602881  279.300412  "
      ]
     },
     "execution_count": 5,
     "metadata": {},
     "output_type": "execute_result"
    }
   ],
   "source": [
    "pos.load(file_path)\n",
    "data = lin_to_df(pos.rois[0])\n",
    "data.head()"
   ]
  },
  {
   "cell_type": "code",
   "execution_count": 6,
   "metadata": {},
   "outputs": [],
   "source": [
    "# from IPython.display import display\n",
    "# display(data.iloc[18:22,:])\n",
    "# display(data.iloc[90:95,:])"
   ]
  },
  {
   "cell_type": "code",
   "execution_count": 7,
   "metadata": {},
   "outputs": [],
   "source": [
    "temp_graph = np.vstack([data[\"lin_id\"].to_numpy(dtype=np.float64), \n",
    "                      data[\"mother_lin_id\"].to_numpy(dtype=np.float64)]).T"
   ]
  },
  {
   "cell_type": "code",
   "execution_count": 8,
   "metadata": {},
   "outputs": [],
   "source": [
    "\n",
    "lin_data = np.vstack([data[\"lin_id\"].to_numpy(dtype=np.double), \n",
    "                      data[\"frames\"].to_numpy(dtype=np.double), \n",
    "                      data[\"y_pos\"].to_numpy(dtype=np.double), \n",
    "                      data[\"x_pos\"].to_numpy(dtype=np.double)]).T\n",
    "lin_data.shape\n",
    "\n",
    "lin_data = np.round(lin_data).astype(int)\n",
    "\n",
    "lin_id = data[\"lin_id\"].to_numpy(dtype=np.int32)\n",
    "mom_id = data[\"mother_lin_id\"].to_numpy(dtype=np.int32)\n",
    "\n",
    "lin_set, idx_set = np.unique(lin_id, return_index=True)\n",
    "mom_set = mom_id[idx_set]\n",
    "\n",
    "graph = {}\n",
    "\n",
    "for lin, mom in zip(lin_set, mom_set):\n",
    "    if mom >= 0:\n",
    "        graph[lin] = mom\n",
    "\n"
   ]
  },
  {
   "cell_type": "code",
   "execution_count": 9,
   "metadata": {},
   "outputs": [
    {
     "name": "stderr",
     "output_type": "stream",
     "text": [
      "/Users/simonvanvliet/opt/miniconda3/envs/i2i_p1_env/lib/python3.10/site-packages/superqt/qtcompat/__init__.py:7: UserWarning: The superqt.qtcompat module is deprecated as of v0.3.0. Please import from `qtpy` instead.\n",
      "  warnings.warn(\n",
      "2022-04-19 08:16:56.295715: I tensorflow/core/platform/cpu_feature_guard.cc:151] This TensorFlow binary is optimized with oneAPI Deep Neural Network Library (oneDNN) to use the following CPU instructions in performance-critical operations:  SSE4.1 SSE4.2 AVX AVX2 FMA\n",
      "To enable them in other operations, rebuild TensorFlow with the appropriate compiler flags.\n",
      "/Users/simonvanvliet/opt/miniconda3/envs/i2i_p1_env/lib/python3.10/site-packages/napari_tools_menu/__init__.py:165: FutureWarning: Public access to Window.qt_viewer is deprecated and will be removed in\n",
      "v0.5.0. It is considered an \"implementation detail\" of the napari\n",
      "application, not part of the napari viewer model. If your use case\n",
      "requires access to qt_viewer, please open an issue to discuss.\n",
      "  self.tools_menu = ToolsMenu(self, self.qt_viewer.viewer)\n"
     ]
    },
    {
     "name": "stdout",
     "output_type": "stream",
     "text": [
      "None None []\n"
     ]
    }
   ],
   "source": [
    "rois = pos.rois[0]\n",
    "\n",
    "imstack = np.stack(pos.rois[0].img_stack, axis=0)\n",
    "labelstack = np.stack(pos.rois[0].label_stack, axis=0)\n",
    "labelstack_raw = labelstack.copy()\n",
    "\n",
    "viewer = napari.view_image(imstack)\n",
    "viewer.add_labels(labelstack)\n",
    "viewer.add_tracks(lin_data, name='Tracks', graph=graph)\n",
    "\n",
    "viewer.show()\n"
   ]
  },
  {
   "cell_type": "code",
   "execution_count": 11,
   "metadata": {},
   "outputs": [
    {
     "data": {
      "text/plain": [
       "<matplotlib.image.AxesImage at 0x17a849750>"
      ]
     },
     "execution_count": 11,
     "metadata": {},
     "output_type": "execute_result"
    },
    {
     "data": {
      "image/png": "[encoded data removed]",
      "text/plain": [
       "<Figure size 720x360 with 1 Axes>"
      ]
     },
     "metadata": {
      "image/png": {
       "height": 306,
       "width": 317
      },
      "needs_background": "light"
     },
     "output_type": "display_data"
    }
   ],
   "source": [
    "frame = 39\n",
    "\n",
    "fig, axs = plt.subplots(1,2, figsize=(16,24))\n",
    "axs[0].imshow(labelstack_raw[frame,:,:])\n",
    "axs[1].imshow(labelstack[frame,:,:])    "
   ]
  }
 ],
 "metadata": {
  "interpreter": {
   "hash": "6cb765ee22dcc904efaf1351ec4408646fdaf0eb2968a618fbd04b98f5406910"
  },
  "kernelspec": {
   "display_name": "Python [conda env:i2i_p1_env]",
   "language": "python",
   "name": "python3"
  },
  "language_info": {
   "codemirror_mode": {
    "name": "ipython",
    "version": 3
   },
   "file_extension": ".py",
   "mimetype": "text/x-python",
   "name": "python",
   "nbconvert_exporter": "python",
   "pygments_lexer": "ipython3",
   "version": "3.10.2"
  }
 },
 "nbformat": 4,
 "nbformat_minor": 4
}
