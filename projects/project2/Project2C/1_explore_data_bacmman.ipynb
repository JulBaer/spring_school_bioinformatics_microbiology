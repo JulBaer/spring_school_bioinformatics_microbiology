{
 "cells": [
  {
   "cell_type": "markdown",
   "metadata": {},
   "source": [
    "# Data Exploration\n",
    "\n",
    "We will now explore the data and try to gain some biological insight from it. \n",
    "\n",
    "**Before the starting the Tutors will give an introduction, if you are ready for this step please let them know!**\n",
    "\n",
    "The dataset we will work with consists of a time-lapse data of ..."
   ]
  },
  {
   "cell_type": "markdown",
   "metadata": {},
   "source": [
    "---"
   ]
  },
  {
   "cell_type": "markdown",
   "id": "99dcf040",
   "metadata": {},
   "source": [
    "## Import packages\n",
    "\n",
    "Before starting the code we need to import all the required packages.\n",
    "\n",
    "We use a number of important Python packages:\n",
    "- [Numpy](https://numpy.org): Goto package for vector/matrix based calculations (heavily inspired by Matlab)\n",
    "- [Pandas](https://pandas.pydata.org): Goto package for handling data tables (heavily inspired by R) \n",
    "- [Matplotlib](https://matplotlib.org): Goto package for plotting data\n",
    "- [Seaborn](https://seaborn.pydata.org): Fancy plots made easy (Similar to ggplot in R)\n",
    "- [pathlib](https://docs.python.org/3/library/pathlib.html): Path handling made easy"
   ]
  },
  {
   "cell_type": "code",
   "execution_count": null,
   "metadata": {},
   "outputs": [],
   "source": [
    "%matplotlib inline\n",
    "%config InlineBackend.figure_format = 'retina'\n",
    "%gui qt\n",
    "\n",
    "import numpy as np\n",
    "import pandas as pd\n",
    "\n",
    "import matplotlib\n",
    "import matplotlib.pyplot as plt\n",
    "import matplotlib.cm as cm\n",
    "matplotlib.rc(\"figure\", figsize=(10,5))\n",
    "\n",
    "import seaborn as sns\n",
    "\n",
    "import pathlib"
   ]
  },
  {
   "cell_type": "markdown",
   "metadata": {},
   "source": [
    "---"
   ]
  },
  {
   "cell_type": "markdown",
   "metadata": {},
   "source": [
    "## Setup Folders\n",
    "As always we start with specifying the data paths:"
   ]
  },
  {
   "cell_type": "code",
   "execution_count": null,
   "metadata": {},
   "outputs": [],
   "source": [
    "proj_dir = pathlib.Path(pathlib.Path.home(), 'I2ICourse', 'Project2C')\n",
    "data_path = proj_dir / 'cell_data.pkl'"
   ]
  },
  {
   "cell_type": "markdown",
   "metadata": {},
   "source": [
    "---"
   ]
  },
  {
   "cell_type": "markdown",
   "metadata": {},
   "source": [
    "## Load Data\n",
    "We load the data from the last notebook;"
   ]
  },
  {
   "cell_type": "code",
   "execution_count": null,
   "metadata": {},
   "outputs": [],
   "source": [
    "#load data frame\n",
    "df_name = proj_dir / 'cell_data.pkl'\n",
    "df = pd.read_pickle(df_name)"
   ]
  },
  {
   "cell_type": "markdown",
   "metadata": {},
   "source": [
    "---"
   ]
  },
  {
   "cell_type": "markdown",
   "metadata": {},
   "source": [
    "## A bit more Pandas\n",
    "\n",
    "For how to use Pandas, please refer to the Project 2A notebook.\n",
    "\n",
    "Here we just give one last example. Sometime you might be interested in the property of a cell at birth or division. For that Pandas has a very neat function: just combine `groupby` to group cells based on their unique `lin_id` with `first` or `last` to extract the first or last entry of each cell."
   ]
  },
  {
   "cell_type": "code",
   "execution_count": null,
   "metadata": {},
   "outputs": [],
   "source": [
    "import seaborn as sns\n",
    "\n",
    "#get first and last frame of all cells\n",
    "df_first_frame = df.groupby('lin_id').first()\n",
    "df_last_frame = df.groupby('lin_id').last()\n",
    "\n",
    "#we only want cells of which we have observed the full lineage\n",
    "#and exclude the ones that have no offspring (d1_lin_id=-1)\n",
    "#we can filter these out with:\n",
    "df_first_frame = df_first_frame.loc[~np.isnan(df_first_frame['NextDivisionFrame'])]\n",
    "df_last_frame = df_last_frame.loc[~np.isnan(df_last_frame['NextDivisionFrame'])]\n",
    "\n",
    "fig, axs = plt.subplots(1,3, figsize=(12,4))\n",
    "sns.histplot(ax=axs[0], data=df_first_frame, x='Length', )\n",
    "sns.histplot(ax=axs[1], data=df_last_frame, x='Length')\n",
    "sns.scatterplot(ax=axs[2], x=df_first_frame['Length'], y=df_last_frame['Length'])\n",
    "\n",
    "for ax in axs: ax.set(xlim=(0,10)) \n",
    "axs[2].set(ylim=(0,10))\n",
    "\n",
    "titles = ['length at birth', 'length at division', 'length at division vs length at birth'] \n",
    "for idx, title in enumerate(titles): axs[idx].set_title(title)"
   ]
  },
  {
   "cell_type": "markdown",
   "metadata": {},
   "source": [
    "---"
   ]
  },
  {
   "cell_type": "markdown",
   "metadata": {},
   "source": [
    "## Exercise\n",
    "\n",
    "Now it is time for some biology. Discuss with your tutor want kind of biological questions you could address with this data.  \n",
    "Some ideas:\n",
    "- How do cells respond to the nutrient switches? how does growth rate, cell size, etc, change? What is the variation between cells?\n",
    "- Is there a correlation between the response between the first and second switch?\n",
    "- Are there any correlations between the phenotypes of closely related cells?\n",
    "- Are there correlations between different cell properties (growth rate, size, etc)?\n",
    "- Does the phenotype of cells depend on the position in the channel?\n",
    "- etc\n",
    "\n",
    "Bacmman calculates quite some cell properties, but there might also be other interesting phenotypes that Bacmman does not calculate by default. For example Bacmman calculates the average growth rate over a cell's life, but the growth rate can change between division events, for example when nutrients change. You might thus have to do some calculation of your own to find, e.g.:\n",
    "- Cell elongation rate (rate at which cell length increases) as function of time\n",
    "  - Hint: cell length is described by $l(t) = l(0) \\cdot e^{r\\cdot t}$ where $r$ is the elongation/growth rate\n",
    "  - Hint: elongation rates can change during the life of a cell, how could you quantify this?\n",
    "- Lag time: time the cells need to start growing again after nutrient switch\n",
    "  - Hint: you can use either length increase or growth rate increase to measure lag time\n",
    "- etc.\n",
    "\n",
    "Think about how you could estimate these quantities from the data you do have. "
   ]
  },
  {
   "cell_type": "code",
   "execution_count": null,
   "metadata": {},
   "outputs": [],
   "source": [
    "#Add your code here"
   ]
  }
 ],
 "metadata": {
  "interpreter": {
   "hash": "6cb765ee22dcc904efaf1351ec4408646fdaf0eb2968a618fbd04b98f5406910"
  },
  "kernelspec": {
   "display_name": "Python [conda env:i2i_p1_env]",
   "language": "python",
   "name": "python3"
  },
  "language_info": {
   "codemirror_mode": {
    "name": "ipython",
    "version": 3
   },
   "file_extension": ".py",
   "mimetype": "text/x-python",
   "name": "python",
   "nbconvert_exporter": "python",
   "pygments_lexer": "ipython3",
   "version": "3.9.12"
  }
 },
 "nbformat": 4,
 "nbformat_minor": 4
}
