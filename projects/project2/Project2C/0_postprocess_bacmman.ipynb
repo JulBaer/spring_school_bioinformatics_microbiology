{
 "cells": [
  {
   "cell_type": "markdown",
   "id": "af9f9e44-6e30-4484-b875-7d92a9f4bd6e",
   "metadata": {},
   "source": [
    "# Explore Mother Machine Data\n",
    "\n",
    "We have an experiment where two carbon switches were done: details to come)"
   ]
  },
  {
   "cell_type": "code",
   "execution_count": null,
   "id": "0ec9cfc7-b1ee-4d4f-8491-0703ef73dc61",
   "metadata": {},
   "outputs": [],
   "source": [
    "%matplotlib inline\n",
    "%config InlineBackend.figure_format = 'retina'\n",
    "%gui qt\n",
    "\n",
    "import pandas as pd\n",
    "import numpy as np\n",
    "import seaborn as sns\n",
    "\n",
    "import matplotlib.pyplot as plt\n",
    "\n",
    "import pathlib"
   ]
  },
  {
   "cell_type": "markdown",
   "id": "6ab23cef-4f61-4a20-8de4-8938ec66e38a",
   "metadata": {},
   "source": [
    "## Import Data from BACMMAN\n",
    "\n",
    "Set the path to the exported csv file from Bacmman to load it into Python.\n",
    "\n",
    "Note there is also a python package that allows for direct interactions between python and Bacmman, for example to find and select problematic/interesting cells which you want to manually correct, a detailed explanation can be found [here](https://github.com/jeanollion/bacmman/wiki/Selections#create-selections-from-python).\n",
    "\n",
    "If needed you can manually edit segmentation and tracking using the Bacmman GUI, see [here](https://github.com/jeanollion/bacmman/wiki/Data-Curation) for instructions. You can also look [at this screencast](https://www.github.com/jeanollion/bacmman/wiki/resources/screencast/manual_correction_dataset2.webm).\n",
    "\n",
    "For time reasons we will skip these steps and just use the data as is."
   ]
  },
  {
   "cell_type": "code",
   "execution_count": null,
   "id": "5bbc02a6-4d6d-4711-a1d2-2842fed7584a",
   "metadata": {},
   "outputs": [],
   "source": [
    "root = pathlib.Path(pathlib.Path.home(), 'I2ICourse/')\n",
    "proj_dir = (root / 'Project2C')\n",
    "bm_path = proj_dir / 'Bacmman' #location of model\n",
    "\n",
    "\n",
    "data_set_name = \"Project2C\" # change to the actual name of the dataset\n",
    "objectClassIdx = 1 # 1 is for the object class #1 = bacteria\n",
    "\n",
    "file_name =  '%s_%i.csv' %(data_set_name,objectClassIdx) \n",
    "file_path = bm_path / data_set_name / file_name\n",
    "\n",
    "print(file_path)"
   ]
  },
  {
   "cell_type": "markdown",
   "id": "1dbdd4ae",
   "metadata": {},
   "source": [
    "Now we  read this in with Pandas"
   ]
  },
  {
   "cell_type": "code",
   "execution_count": null,
   "id": "d0c6def0-5bc9-46dc-9221-d951b148af55",
   "metadata": {},
   "outputs": [],
   "source": [
    "df = pd.read_csv(file_path, sep=';') "
   ]
  },
  {
   "cell_type": "markdown",
   "id": "d98586ea",
   "metadata": {},
   "source": [
    "## Bacmman data formats\n",
    "\n",
    "Let's have a look at how Bacmman stores cell property data."
   ]
  },
  {
   "cell_type": "code",
   "execution_count": null,
   "id": "e3780df4",
   "metadata": {},
   "outputs": [],
   "source": [
    "df.head()"
   ]
  },
  {
   "cell_type": "markdown",
   "id": "0ca47b25",
   "metadata": {},
   "source": [
    "There is quite some info here, but it is a bit obscure:\n",
    "- `Position` is the name of the position (image)\n",
    "- `PositionIdx` is an integer keeping track of which position you are in \n",
    "- `Indices` corresponds to `frame_nr - channel_nr - cell-nr`\n",
    "- `Frame` is frame nr\n",
    "- `Idx` is cell nr (1 = mother cells)\n",
    "- `Bacteria` lineage keeps track of cell lineage (after each division a letter is added)\n",
    "\n",
    "Annoyingly there is no field for channel, so let's add it. \n",
    "\n",
    "> **Exercise** \n",
    "> \n",
    "> Think about how you could do this\n",
    "> \n",
    "> Hint: you can use python package [`re`](https://docs.python.org/3/library/re.html#) to extract it from the `Indices` field"
   ]
  },
  {
   "cell_type": "code",
   "execution_count": null,
   "id": "cf5ef88a",
   "metadata": {},
   "outputs": [],
   "source": [
    "import re\n",
    "ChIdx = [int(re.split(\"\\-\",ind)[1]) for ind in df['Indices']]\n",
    "df['ChannelIdx'] = ChIdx\n",
    "df.head()"
   ]
  },
  {
   "cell_type": "markdown",
   "id": "656819b7",
   "metadata": {},
   "source": [
    "## Cell lineage information\n",
    "Now let's look at the mother cell and first offspring in the first channel. Try to understand how  lineages are connected.\n",
    "\n",
    "As you might notice lineages in different channels have the same BacteriaLineage code. Often it is very useful to have a unique lineage id, a number that is constant throughout a cell's life and that only occurs once within the data table. Can you come up with a good idea of how to implement this?"
   ]
  },
  {
   "cell_type": "code",
   "execution_count": null,
   "id": "f515f0c2",
   "metadata": {},
   "outputs": [],
   "source": [
    "df.loc[(df['PositionIdx']==0) & (df['ChannelIdx']==4) & (df['Idx']<1) & (df['Frame']<6)]"
   ]
  },
  {
   "cell_type": "markdown",
   "id": "29596a1c",
   "metadata": {},
   "source": [
    "To uniquely id a cell linage we need three pieces of info\n",
    "- `Position-idx`\n",
    "- `Channel-idx`\n",
    "- `Bacteria-Lineage`\n",
    "\n",
    "> **Exercise** \n",
    "> Think about how you could add a unique lineage id to the dataframe"
   ]
  },
  {
   "cell_type": "markdown",
   "id": "f88ff8a1",
   "metadata": {},
   "source": [
    "Below we give an example of how to combine these fields to make a unique identifier. Sometimes it has handy if the identifier is a simple integer, so we also make one of those."
   ]
  },
  {
   "cell_type": "code",
   "execution_count": null,
   "id": "876545f5",
   "metadata": {},
   "outputs": [],
   "source": [
    "#combine PositionIdx-ChannelIdx-BacteriaLineage into single string and add string lin_id_str property\n",
    "df['lin_id_str'] = df['PositionIdx'].map(str) + '-' + df['ChannelIdx'].map(str) + '-' + df['BacteriaLineage'].map(str)\n",
    "\n",
    "#find unique strings\n",
    "lin_set = sorted(set(df['lin_id_str']))\n",
    "uniq_lin_ids = list(lin_set)\n",
    "#convert string in integer number \n",
    "lin_id = [uniq_lin_ids.index(id_str) for id_str in df['lin_id_str']]\n",
    "\n",
    "#add integer lin_id property\n",
    "df['lin_id'] = lin_id\n",
    "\n",
    "#show data-frame\n",
    "df.head()"
   ]
  },
  {
   "cell_type": "markdown",
   "id": "d264f6e8",
   "metadata": {},
   "source": [
    "Now we can extract a cell lineage (e.g. nr 6) as:"
   ]
  },
  {
   "cell_type": "code",
   "execution_count": null,
   "id": "a403b9fb",
   "metadata": {},
   "outputs": [],
   "source": [
    "df_sub = df.loc[df['lin_id']==6]\n",
    "df_sub.head()"
   ]
  },
  {
   "cell_type": "markdown",
   "id": "fccb4317",
   "metadata": {},
   "source": [
    "### Saving\n",
    "This would be a good time to save your data. "
   ]
  },
  {
   "cell_type": "code",
   "execution_count": null,
   "id": "a1c9867a",
   "metadata": {},
   "outputs": [],
   "source": [
    "save_name = proj_dir / 'cell_data.pkl'\n",
    "df.to_pickle(save_name)"
   ]
  }
 ],
 "metadata": {
  "kernelspec": {
   "display_name": "Python 3 (ipykernel)",
   "language": "python",
   "name": "python3"
  },
  "language_info": {
   "codemirror_mode": {
    "name": "ipython",
    "version": 3
   },
   "file_extension": ".py",
   "mimetype": "text/x-python",
   "name": "python",
   "nbconvert_exporter": "python",
   "pygments_lexer": "ipython3",
   "version": "3.9.12"
  }
 },
 "nbformat": 4,
 "nbformat_minor": 5
}
