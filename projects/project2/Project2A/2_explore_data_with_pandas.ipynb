{
 "cells": [
  {
   "cell_type": "markdown",
   "metadata": {},
   "source": [
    "# Exploring data using Pandas\n",
    "\n",
    "**Before starting with this notebook, the tutors will give a brief introduction**\n",
    "\n",
    "Now that we have extracted the cell properties we can address some biological questions. The data we have been analyzing is from a synthetic microbial cross-feeding community consisting of two auxotrophic strains of E. coli that can only grow by exchanging Amino-Acids with each other. We are interested in understanding the dynamics of this community, and as a first question we like to know how the frequency of the two cell types changes over time. It is now your task to try to answer this question."
   ]
  },
  {
   "cell_type": "markdown",
   "metadata": {},
   "source": [
    "## Import packages\n",
    "\n",
    "Before starting the code we need to import all the required packages.\n",
    "\n",
    "We use a number of important Python packages:\n",
    "- [Numpy](https://numpy.org): Goto package for vector/matrix based calculations (heavily inspired by Matlab)\n",
    "- [Pandas](https://pandas.pydata.org): Goto package for handling data tables (heavily inspired by R) \n",
    "- [Matplotlib](https://matplotlib.org): Goto package for plotting data\n",
    "- [Seaborn](https://seaborn.pydata.org): Fancy plots made easy (Similar to ggplot in R)\n",
    "- [pathlib](https://docs.python.org/3/library/pathlib.html): Path handling made easy"
   ]
  },
  {
   "cell_type": "code",
   "execution_count": null,
   "metadata": {
    "tags": [
     "hide-cell"
    ]
   },
   "outputs": [],
   "source": [
    "#next two lines make sure that Matplotlib plots are shown properly in Jupyter Notebook\n",
    "%matplotlib inline\n",
    "%config InlineBackend.figure_format = 'retina'\n",
    "\n",
    "#main data analysis packages\n",
    "import numpy as np\n",
    "import pandas as pd\n",
    "\n",
    "#data plotting packages\n",
    "import matplotlib\n",
    "import matplotlib.pyplot as plt\n",
    "#set default figure size\n",
    "matplotlib.rc(\"figure\", figsize=(10,5))\n",
    "import seaborn as sns\n",
    "\n",
    "#path handling\n",
    "import pathlib"
   ]
  },
  {
   "cell_type": "markdown",
   "metadata": {},
   "source": [
    "---\n",
    "## Import Data\n",
    "We start by specifying the paths to our data"
   ]
  },
  {
   "cell_type": "code",
   "execution_count": null,
   "metadata": {},
   "outputs": [],
   "source": [
    "#Set the path to the folder that contains project data\n",
    "root = pathlib.Path(pathlib.Path.home(), \n",
    "                    'workdir/Project2A/ProcessedData/')\n",
    "\n",
    "image_name = 'pos0_preproc-rg.tif' #set name of image\n",
    "data_path = root /  image_name.replace('.tif','_cellprop.pkl')"
   ]
  },
  {
   "cell_type": "markdown",
   "metadata": {},
   "source": [
    "And we can load the dataframe"
   ]
  },
  {
   "cell_type": "code",
   "execution_count": null,
   "metadata": {},
   "outputs": [],
   "source": [
    "df = pd.read_pickle(data_path)\n",
    "df.head()"
   ]
  },
  {
   "cell_type": "markdown",
   "metadata": {},
   "source": [
    "----\n",
    "## Working with Pandas Dataframes\n",
    "Now let's analyze some data. You can manipulate Pandas data frames and e.g. extract a column.  \n",
    "An extracted column is know as a [Series](https://pandas.pydata.org/docs/user_guide/dsintro.html#series)."
   ]
  },
  {
   "cell_type": "code",
   "execution_count": null,
   "metadata": {},
   "outputs": [],
   "source": [
    "cell_length = df['axis_major_length'] #extract a column \n",
    "print('data type of extracted column = ', type(cell_length))"
   ]
  },
  {
   "cell_type": "markdown",
   "metadata": {},
   "source": [
    "You can also add new columns, either from a Series, Vector data, or constant value:"
   ]
  },
  {
   "cell_type": "code",
   "execution_count": null,
   "metadata": {},
   "outputs": [],
   "source": [
    "cell_length = df['axis_major_length'] #extract a column \n",
    "cell_width = df['axis_minor_length'] #extract a column \n",
    "\n",
    "#add new column based on ratio of two Series\n",
    "df[\"aspect_ratio\"] = cell_length/cell_width\n",
    "\n",
    "#show output\n",
    "df.head()"
   ]
  },
  {
   "cell_type": "markdown",
   "metadata": {},
   "source": [
    "We can get a quick summary of the data using the [`describe` function](https://pandas.pydata.org/docs/getting_started/intro_tutorials/06_calculate_statistics.html):"
   ]
  },
  {
   "cell_type": "code",
   "execution_count": null,
   "metadata": {},
   "outputs": [],
   "source": [
    "df.describe()"
   ]
  },
  {
   "cell_type": "markdown",
   "metadata": {},
   "source": [
    "We can also filter on rows and for example extract all cells that fulfill a certain requirement, for example we can sort out the largest 0.1% of cells using:"
   ]
  },
  {
   "cell_type": "code",
   "execution_count": null,
   "metadata": {},
   "outputs": [],
   "source": [
    "#find 99.9% percentile of cell lengths:\n",
    "size_tr = df['axis_major_length'].quantile(0.999)\n",
    "\n",
    "#select biggest cells:  \n",
    "huge_cells = df[df['axis_major_length']>size_tr]\n",
    "huge_cells.head(n=10)"
   ]
  },
  {
   "cell_type": "markdown",
   "metadata": {},
   "source": [
    "For more details of how to use Pandas, see examples below or consult the extensive [documentation online](https://pandas.pydata.org/docs/user_guide/index.html)"
   ]
  },
  {
   "cell_type": "markdown",
   "metadata": {},
   "source": [
    "----\n",
    "## Plotting and analyzing cell properties using Pandas & Matplotlib \n",
    "\n",
    "### Cell number over time\n",
    "We will first look at how the number of cells changes over time.\n",
    "\n",
    "We use the [`groupby`](https://pandas.pydata.org/pandas-docs/stable/user_guide/groupby.html#splitting-an-object-into-groups) function on the `frame` property to group cells based on their frame. We can then count the number of cells at each frame by calling the `size()` property.\n",
    "\n",
    "The result is a [Pandas Data Series](https://pandas.pydata.org/docs/user_guide/dsintro.html#series). We can directly plot the result using the build-in plot function."
   ]
  },
  {
   "cell_type": "code",
   "execution_count": null,
   "metadata": {},
   "outputs": [],
   "source": [
    "cell_num_t = df.groupby('frame').size() #output is pandas data series\n",
    "cell_num_t.plot(xlabel='frame',ylabel='# of cells',figsize=(10,5)) #use build in plot function"
   ]
  },
  {
   "cell_type": "markdown",
   "metadata": {},
   "source": [
    "### Average cell properties over time\n",
    "Next we will look at how the average properties of a cell, such as their fluorescent intensity, changes over time.\n",
    "\n",
    "Again we use the [`groupby`](https://pandas.pydata.org/pandas-docs/stable/user_guide/groupby.html#splitting-an-object-into-groups) function on the `frame` property to group cells based on their frame. We can then calculate the average value for each group by calling the `mean()` function.\n",
    "The output in this case is a Pandas dataframe, with shows the average value over all cells contained in a given frame (each row is a frame). \n",
    "\n",
    "[Here](https://pbpython.com/groupby-agg.html) you can find an overview of how to group and aggregate data in Pandas."
   ]
  },
  {
   "cell_type": "code",
   "execution_count": null,
   "metadata": {},
   "outputs": [],
   "source": [
    "av_prop = df.groupby('frame').mean()\n",
    "av_prop['frame'] = av_prop.index\n",
    "av_prop.head()"
   ]
  },
  {
   "cell_type": "markdown",
   "metadata": {},
   "source": [
    "We can plot the result in two ways: using [Matplotlib](https://matplotlib.org/stable/index.html) or [seaborn](https://seaborn.pydata.org/index.html).\n",
    "\n",
    "Matplotlib is a lower level package, giving you a lot of freedom but requiring quite a bit of code to make things look nice.\n",
    "\n",
    "Seaborn is a higher level package, making it easier to make nice looking figures, at the cost of some flexibility.\n",
    "\n",
    "First we show you Matplotlib:"
   ]
  },
  {
   "cell_type": "code",
   "execution_count": null,
   "metadata": {},
   "outputs": [],
   "source": [
    "#plot with Matplotlib\n",
    "fig, ax = plt.subplots(figsize=(10,5))\n",
    "ax.plot(av_prop['frame'],av_prop['mean_intensity-0'],label='channel 0')\n",
    "ax.plot(av_prop['frame'],av_prop['mean_intensity-1'],label='channel 1')\n",
    "ax.set_xlabel('frame nr')\n",
    "ax.set_ylabel('fluorescent intensity')\n",
    "ax.legend()"
   ]
  },
  {
   "cell_type": "markdown",
   "metadata": {},
   "source": [
    "----\n",
    "## Plotting with Seaborn\n",
    "\n",
    "Now let's look at Seaborn:"
   ]
  },
  {
   "cell_type": "code",
   "execution_count": null,
   "metadata": {},
   "outputs": [],
   "source": [
    "#plot with Seaborn\n",
    "p = sns.lineplot(data=av_prop[[\"mean_intensity-0\", \"mean_intensity-1\"]])\n",
    "p.set_ylabel(\"fluorescent intensity\")"
   ]
  },
  {
   "cell_type": "markdown",
   "metadata": {},
   "source": [
    "Similarly we can look at distributions and scatter plots:"
   ]
  },
  {
   "cell_type": "code",
   "execution_count": null,
   "metadata": {},
   "outputs": [],
   "source": [
    "fig, axs = plt.subplots(1,2, figsize=(12,6))\n",
    "sns.histplot(ax=axs[0], data=df[[\"mean_intensity-0\", \"mean_intensity-1\"]])\n",
    "sns.scatterplot(ax=axs[1], data=df, x=\"mean_intensity-0\", y=\"mean_intensity-1\")"
   ]
  },
  {
   "cell_type": "markdown",
   "metadata": {},
   "source": [
    "Seaborn has also many mare advanced functionalities. For example you can automatically make a facet plot to make a separate plot for each group. Here we visualize how the distribution of RFP intensities changes over time:"
   ]
  },
  {
   "cell_type": "code",
   "execution_count": null,
   "metadata": {},
   "outputs": [],
   "source": [
    "g = sns.FacetGrid(df, col=\"frame\", col_wrap=10, height=2)\n",
    "g.map(sns.histplot, \"mean_intensity-0\")"
   ]
  },
  {
   "cell_type": "markdown",
   "metadata": {},
   "source": [
    "For more details, you can consult the [Example gallery](https://seaborn.pydata.org/examples/index.html) or [Tutorial section](https://seaborn.pydata.org/tutorial.html) on the Seaborn website."
   ]
  },
  {
   "cell_type": "markdown",
   "metadata": {},
   "source": [
    "---\n",
    "## Data analysis: Quantifying Community Dynamics\n",
    "\n",
    "> ### Exercise\n",
    "> We are interested in the dynamics of the community, and would like to know how the fraction of red cells changes over time.   \n",
    "> Try to come up with a way to calculate this.\n",
    "> \n",
    "> Hints:\n",
    "> - Think about how you can tell red and green cells apart in a reliable way\n",
    "> - Classify cells as either red or green\n",
    "> - Calculate the fraction of red cells over time"
   ]
  },
  {
   "cell_type": "code",
   "execution_count": null,
   "metadata": {},
   "outputs": [],
   "source": [
    "#enter code here"
   ]
  },
  {
   "cell_type": "markdown",
   "metadata": {},
   "source": [
    "---"
   ]
  },
  {
   "cell_type": "markdown",
   "metadata": {},
   "source": [
    "### Solution 1\n",
    "To see the solution, uncomment (remove `#`) the `load` line below and run the cell twice (first time will load the code second time will run it)"
   ]
  },
  {
   "cell_type": "code",
   "execution_count": null,
   "metadata": {},
   "outputs": [],
   "source": [
    "# %load ../Solutions/p0_classify_sol1.py"
   ]
  },
  {
   "cell_type": "markdown",
   "metadata": {},
   "source": [
    "### Solution 2\n",
    "To see the solution, uncomment (remove `#`) the `load` line below and run the cell twice (first time will load the code second time will run it)"
   ]
  },
  {
   "cell_type": "code",
   "execution_count": null,
   "metadata": {},
   "outputs": [],
   "source": [
    "# %load ../Solutions/p0_classify_sol2.py"
   ]
  }
 ],
 "metadata": {
  "celltoolbar": "Tags",
  "kernelspec": {
   "display_name": "Python 3 (ipykernel)",
   "language": "python",
   "name": "python3"
  },
  "language_info": {
   "codemirror_mode": {
    "name": "ipython",
    "version": 3
   },
   "file_extension": ".py",
   "mimetype": "text/x-python",
   "name": "python",
   "nbconvert_exporter": "python",
   "pygments_lexer": "ipython3",
   "version": "3.9.12"
  }
 },
 "nbformat": 4,
 "nbformat_minor": 4
}
